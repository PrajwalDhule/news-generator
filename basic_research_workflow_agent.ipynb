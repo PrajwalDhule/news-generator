{
 "cells": [
  {
   "cell_type": "code",
   "execution_count": null,
   "id": "f85acea5",
   "metadata": {},
   "outputs": [
    {
     "data": {
      "text/plain": [
       "True"
      ]
     },
     "execution_count": 17,
     "metadata": {},
     "output_type": "execute_result"
    }
   ],
   "source": [
    "# research_agent_gemini.py\n",
    "import os\n",
    "from dotenv import load_dotenv\n",
    "from agno.agent import Agent\n",
    "from agno.models.google import Gemini\n",
    "from agno.tools.duckduckgo import DuckDuckGoTools\n",
    "from agno.tools.newspaper4k import Newspaper4kTools\n",
    "from agno.tools.reasoning import ReasoningTools\n",
    "from typing import List, Dict\n",
    "from dotenv import load_dotenv\n",
    "import requests\n",
    "import json\n",
    "\n",
    "load_dotenv()"
   ]
  },
  {
   "cell_type": "code",
   "execution_count": 18,
   "id": "b6023744",
   "metadata": {},
   "outputs": [],
   "source": [
    "class AgnoAgent:\n",
    "    def __init__(self):\n",
    "        self.model = Gemini(\n",
    "            id=\"gemini-2.0-flash\",\n",
    "            api_key=os.getenv(\"GEMINI_API_KEY\")\n",
    "        )\n",
    "        \n",
    "        self.prompt = \"\"\"\n",
    "            You are a world-class chess news curator, renowned for your insightful and engaging reporting. Your task is to provide the latest and most relevant news from the world of chess.\n",
    "\n",
    "            Your primary goal is to deliver news that meets the highest journalistic standards.  Adhere to the following principles:\n",
    "\n",
    "            * **Relevancy:** Ensure the news is directly related to chess (e.g., tournaments, matches, player profiles, rule changes, major announcements). Avoid tangential or marginally related information.\n",
    "            * **Accuracy:** Verify the facts presented in the news.  Cross-reference information from multiple reliable sources to ensure correctness.  Do not include rumors or unverified claims.\n",
    "            * **Comprehensiveness:** Go beyond simple reporting.  Provide sufficient context and background information to help the reader understand the significance of the news.  Summarize complex events clearly and concisely.\n",
    "            * **Objectivity:** Present the news in a neutral and unbiased manner.  Avoid expressing personal opinions or taking sides in controversies.  If controversies are reported, present all sides fairly.\n",
    "            * **Clarity and Style:** Write in clear, concise, and grammatically correct English.  Use a professional and engaging tone.  Avoid jargon or overly technical language, unless it is clearly explained.  The phrasing should be similar to that used by major news outlets like the Associated Press, Reuters, or ESPN.\n",
    "            * **Timeliness:** Prioritize recent events.  Only include news published within the last 10 days.  Give preference to very recent news.\n",
    "            * **Source Reliability:** Only use information from reputable sources, such as official tournament websites, FIDE announcements, established chess news publications (e.g., ChessBase, Chess.com), and major news organizations.  Do not use information from personal blogs, forums, or social media unless it can be verified from a more reliable source.\n",
    "\n",
    "            Specifically, for each news item, provide the following:\n",
    "\n",
    "            * **Headline:** A concise and attention-grabbing headline that accurately reflects the content of the news.\n",
    "            * **Summary:** A detailed summary of the news, including all the essential information.  The summary should be well-structured, easy to read, and approximately 150-200 words in length.\n",
    "            * **Source Link**: Include the link to the original article.\n",
    "\n",
    "            provide your response only as an object with the fields: title (representing the headline), description (representing the summary), source_links (array of links even if its a single link).\n",
    "\n",
    "            Your output should be suitable for a discerning audience of chess enthusiasts, including players, coaches, and commentators.\n",
    "            \"\"\"\n",
    "\n",
    "    def get_news(self):\n",
    "\n",
    "        agent = Agent(\n",
    "            model=self.model,\n",
    "            tools=[\n",
    "                DuckDuckGoTools(),\n",
    "                Newspaper4kTools(),\n",
    "                ReasoningTools(),\n",
    "            ],\n",
    "            instructions=[self.prompt],\n",
    "            markdown=True\n",
    "        )\n",
    "\n",
    "        response = agent.run(\"Get the most recent and important chess news.\")\n",
    "\n",
    "        return json.loads(response.content[7:-3])\n"
   ]
  },
  {
   "cell_type": "code",
   "execution_count": null,
   "id": "ae8d7d87",
   "metadata": {},
   "outputs": [],
   "source": [
    "\n",
    "def translate_text(source: Dict[str, str], target_languages: List[str]) -> List[Dict[str, any]]:\n",
    "\n",
    "    url = \"https://api.sarvam.ai/translate\"\n",
    "    target_language_codes = [\"en-IN\", \"hi-IN\", \"bn-IN\", \"gu-IN\", \"kn-IN\", \"ml-IN\", \"mr-IN\", \"od-IN\", \"pa-IN\", \"ta-IN\", \"te-IN\"]\n",
    "    translations = []\n",
    "\n",
    "    for target_lang in target_languages:\n",
    "        if target_lang not in target_language_codes:\n",
    "            print(f\"Unsupported language code: {target_lang}\")\n",
    "            continue\n",
    "        \n",
    "        translation = {}\n",
    "        for key in source.keys():\n",
    "            if key == 'source_links':\n",
    "                continue\n",
    "            payload = {\n",
    "                \"input\": source[key],\n",
    "                \"source_language_code\": \"auto\",\n",
    "                \"target_language_code\": target_lang,\n",
    "                \"speaker_gender\": \"Male\",\n",
    "                \"mode\": \"formal\",\n",
    "                \"model\": \"mayura:v1\",\n",
    "                \"enable_preprocessing\": False,\n",
    "                \"output_script\": \"roman\",\n",
    "                \"numerals_format\": \"international\",\n",
    "                \"output_script\": \"fully-native\"\n",
    "            }\n",
    "            headers = {'api-subscription-key': os.getenv(\"SARVAM_API_KEY\")}\n",
    "\n",
    "            response = requests.request(\"POST\", url, json=payload, headers=headers)\n",
    "            if response.status_code == 200:\n",
    "                translation[key] = (response.json())[\"translated_text\"]\n",
    "            else:   \n",
    "                print(f\"Error: {response.status_code}\")\n",
    "                print(response.text)\n",
    "        \n",
    "        translation['target_language_code'] = target_lang\n",
    "        translations.append(translation)\n",
    "\n",
    "    return translations\n"
   ]
  },
  {
   "cell_type": "code",
   "execution_count": 20,
   "id": "1a74fb6a",
   "metadata": {},
   "outputs": [],
   "source": [
    "agno_agent = AgnoAgent()\n",
    "response = agno_agent.get_news()"
   ]
  },
  {
   "cell_type": "code",
   "execution_count": 22,
   "id": "1a6b4c95",
   "metadata": {},
   "outputs": [
    {
     "name": "stdout",
     "output_type": "stream",
     "text": [
      "{\n",
      "    \"title\": \"Hans Niemann Sues Chess.com, Magnus Carlsen, and Others for Defamation\",\n",
      "    \"description\": \"Hans Niemann has filed a lawsuit against Chess.com, Magnus Carlsen, Hikaru Nakamura, Danny Rensch, and others, alleging defamation and collusion. The lawsuit stems from accusations of cheating that arose after Niemann defeated Carlsen at the Sinquefield Cup in September 2022. Niemann is seeking at least $100 million in damages, claiming that the defendants conspired to damage his reputation and career. The suit alleges that Carlsen publicly accused him of cheating, while Chess.com banned him from their platform and removed his content. Nakamura is accused of amplifying the cheating accusations on his streaming platforms. The lawsuit brings further attention to the ongoing controversy surrounding Niemann and the issue of cheating in chess.\",\n",
      "    \"source_links\": [\n",
      "        \"https://www.chess.com/news/view/hans-niemann-sues-chess-com-magnus-carlsen\"\n",
      "    ]\n",
      "}\n"
     ]
    }
   ],
   "source": [
    "original_news = response\n",
    "print(json.dumps(original_news, indent=4))"
   ]
  },
  {
   "cell_type": "code",
   "execution_count": 35,
   "id": "fe978acf",
   "metadata": {},
   "outputs": [],
   "source": [
    "translated_text = translate_text(original_news, [\"hi-IN\"])"
   ]
  },
  {
   "cell_type": "code",
   "execution_count": 41,
   "id": "cd179c9c",
   "metadata": {},
   "outputs": [
    {
     "name": "stdout",
     "output_type": "stream",
     "text": [
      "news:  {'title': 'Hans Niemann Sues Chess.com, Magnus Carlsen, and Others for Defamation', 'description': 'Hans Niemann has filed a lawsuit against Chess.com, Magnus Carlsen, Hikaru Nakamura, Danny Rensch, and others, alleging defamation and collusion. The lawsuit stems from accusations of cheating that arose after Niemann defeated Carlsen at the Sinquefield Cup in September 2022. Niemann is seeking at least $100 million in damages, claiming that the defendants conspired to damage his reputation and career. The suit alleges that Carlsen publicly accused him of cheating, while Chess.com banned him from their platform and removed his content. Nakamura is accused of amplifying the cheating accusations on his streaming platforms. The lawsuit brings further attention to the ongoing controversy surrounding Niemann and the issue of cheating in chess.', 'source_links': ['https://www.chess.com/news/view/hans-niemann-sues-chess-com-magnus-carlsen'], 'translations': [{'title': 'हंस नीमैन ने चेस डॉट कॉम, मैग्नस कार्लसन और अन्य पर मानहानि का मुकदमा दायर किया', 'description': 'हंस नीमैन ने चेस.कॉम, मैग्नस कार्लसन, हिकारू नाकामुरा, डैनी रेन्श और अन्य के खिलाफ मानहानि और मिलीभगत का आरोप लगाते हुए मुकदमा दायर किया है, जिसमें धोखाधड़ी के आरोपों का आरोप लगाया गया है, जो सितंबर 2022 में सिंकफील्ड कप में कार्लसन को हराने के बाद सामने आए थे। नीमैन कम से कम 100 मिलियन डॉलर के नुकसान की मांग कर रहे हैं, जिसमें दावा किया गया है कि प्रतिवादियों ने उनकी प्रतिष्ठा और करियर को नुकसान पहुंचाने की साजिश रची थी। मुकदमे में आरोप लगाया गया है कि कार्लसन ने सार्वजनिक रूप से उन पर धोखाधड़ी का आरोप लगाया, जबकि चेस.कॉम ने उनके प्लेटफॉर्म से उन्हें प्रतिबंधित कर दिया और उनकी सामग्री को हटा दिया। नाकामुरा पर अपने स्ट्रीमिंग प्लेटफार्मों पर धोखाधड़ी के आरोपों को बढ़ाने का आरोप है। मुकदमा नीमैन और शतरंज में धोखाधड़ी के मुद्दे पर और अधिक ध्यान आकर्षित करता है।', 'target_language_code': 'hi-IN'}]}\n"
     ]
    }
   ],
   "source": [
    "news_with_translations = {\n",
    "    \"title\": original_news[\"title\"],\n",
    "    \"description\": original_news[\"description\"],\n",
    "    \"source_links\": original_news[\"source_links\"],\n",
    "    \"translations\": translated_text\n",
    "}\n",
    "\n",
    "print(\"news: \", news_with_translations)"
   ]
  },
  {
   "cell_type": "code",
   "execution_count": null,
   "id": "8df4674c",
   "metadata": {},
   "outputs": [],
   "source": []
  }
 ],
 "metadata": {
  "kernelspec": {
   "display_name": ".venv",
   "language": "python",
   "name": "python3"
  },
  "language_info": {
   "codemirror_mode": {
    "name": "ipython",
    "version": 3
   },
   "file_extension": ".py",
   "mimetype": "text/x-python",
   "name": "python",
   "nbconvert_exporter": "python",
   "pygments_lexer": "ipython3",
   "version": "3.13.2"
  }
 },
 "nbformat": 4,
 "nbformat_minor": 5
}
