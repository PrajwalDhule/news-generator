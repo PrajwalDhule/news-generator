{
 "cells": [
  {
   "cell_type": "code",
   "execution_count": 2,
   "id": "f85acea5",
   "metadata": {},
   "outputs": [
    {
     "data": {
      "text/plain": [
       "True"
      ]
     },
     "execution_count": 2,
     "metadata": {},
     "output_type": "execute_result"
    }
   ],
   "source": [
    "import os\n",
    "from dotenv import load_dotenv\n",
    "from agno.agent import Agent\n",
    "from agno.models.google import Gemini\n",
    "from agno.tools.duckduckgo import DuckDuckGoTools\n",
    "from agno.tools.newspaper4k import Newspaper4kTools\n",
    "from agno.tools.reasoning import ReasoningTools\n",
    "from typing import List, Dict\n",
    "from dotenv import load_dotenv\n",
    "import requests\n",
    "import json\n",
    "from db_utils import add_entry_in_db, fetch_news_from_db, init_db, update_entry_in_db\n",
    "\n",
    "load_dotenv()"
   ]
  },
  {
   "cell_type": "code",
   "execution_count": 3,
   "id": "b6023744",
   "metadata": {},
   "outputs": [],
   "source": [
    "class AgnoAgent:\n",
    "    def __init__(self):\n",
    "        self.model = Gemini(\n",
    "            id=\"gemini-2.0-flash\",\n",
    "            api_key=os.getenv(\"GEMINI_API_KEY\")\n",
    "        )\n",
    "\n",
    "        self.DB_CONFIG = {\n",
    "            \"dbname\": os.getenv(\"DB_NAME\"),\n",
    "            \"user\": os.getenv(\"DB_USER\"),\n",
    "            \"password\": os.getenv(\"DB_PASSWORD\"),\n",
    "            \"host\": os.getenv(\"DB_HOST\"),\n",
    "            \"port\": os.getenv(\"DB_PORT\")\n",
    "        }\n",
    "\n",
    "        init_db(self.DB_CONFIG)\n",
    "\n",
    "        self.base_prompt = (\n",
    "            \"You are a world-class chess news curator, renowned for your insightful and engaging reporting. \"\n",
    "            \"Your task is to provide the latest and most relevant news from the world of chess.\"\n",
    "        )\n",
    "\n",
    "    def get_news(self):\n",
    "\n",
    "        existing_news = fetch_news_from_db(self.DB_CONFIG)\n",
    "        stored_context = self.structure_existing_news(existing_news)\n",
    "\n",
    "        prompt = f\"{self.base_prompt}\\n\\n\" \\\n",
    "                 \"Adhere to the following principles:\\n\" \\\n",
    "                \"Your primary goal is to deliver news that meets the highest journalistic standards.  Adhere to the following principles:\\n\" \\\n",
    "                \"* Relevancy: Ensure the news is directly related to chess (e.g., tournaments, matches, player profiles, rule changes, major announcements). Avoid tangential or marginally related information.\\n\" \\\n",
    "                \"* Accuracy: Verify the facts presented in the news.  Cross-reference information from multiple reliable sources to ensure correctness.  Do not include rumors or unverified claims.\\n\" \\\n",
    "                \"* Comprehensiveness: Go beyond simple reporting.  Provide sufficient context and background information to help the reader understand the significance of the news.  Summarize complex events clearly and concisely.\\n\" \\\n",
    "                \"* Objectivity: Present the news in a neutral and unbiased manner.  Avoid expressing personal opinions or taking sides in controversies.  If controversies are reported, present all sides fairly.\\n\" \\\n",
    "                \"* Clarity and Style: Write in clear, concise, and grammatically correct English.  Use a professional and engaging tone.  Avoid jargon or overly technical language, unless it is clearly explained.  The phrasing should be similar to that used by major news outlets like the Associated Press, Reuters, or ESPN.\\n\" \\\n",
    "                \"* Timeliness: Prioritize recent events.  Only include news published within the last 10 days.  Give preference to very recent news.\\n\" \\\n",
    "                \"* Source Reliability: Only use information from reputable sources, such as official tournament websites, FIDE announcements, established chess news publications (e.g., ChessBase, Chess.com), and major news organizations.  Do not use information from personal blogs, forums, or social media unless it can be verified from a more reliable source.\\n\\n\" \\\n",
    "                 \"### Stored News Context:\\n\" \\\n",
    "                 f\"{stored_context}\\n\" \\\n",
    "                 \"### Storage and Replacement Logic:\\n\" \\\n",
    "                 \"* Do not repeat existing news or slightly reworded variants.\\n\" \\\n",
    "                 \"* If you can provide a follow-up (continuation/development) to any stored item, prioritize that.\\n\" \\\n",
    "                 \"  - If a follow-up is generated, set `replace_id` to that item's ID and include the new content.\\n\" \\\n",
    "                 \"* If no follow-up is possible, generate a news item on a different topic and set `replace_id` to the oldest item’s ID.\\n\" \\\n",
    "                 \"* If fewer than 3 items are stored: if you generate a follow up news, just follow the same process and generate `replace_id`, else if it's a new news, simply add the new item without replacement.\\n\\n\" \\\n",
    "                 \"Output a JSON object with these fields:\\n\" \\\n",
    "                 \"- `title`: A concise and attention-grabbing headline that accurately reflects the content of the news.\\n\" \\\n",
    "                 \"- `description`: A detailed summary of the news, including all the essential information.  The summary should be well-structured, easy to read (~150-200 words).\\n\" \\\n",
    "                 \"- `source_links`: array of source URLs\\n\" \\\n",
    "                 \"- `timestamp`: ISO-formatted datetime of generation\\n\" \\\n",
    "                 \"- `replace_id`: ID of the item to replace (null if adding new)\\n\"\n",
    "\n",
    "        agent = Agent(\n",
    "            model=self.model,\n",
    "            tools=[\n",
    "                DuckDuckGoTools(),\n",
    "                Newspaper4kTools(),\n",
    "                ReasoningTools(),\n",
    "            ],\n",
    "            instructions=[prompt],\n",
    "            markdown=False\n",
    "        )\n",
    "\n",
    "        response = agent.run(\"Get the most recent and important chess news.\")\n",
    "        result = json.loads(response.content[7:-3])\n",
    "\n",
    "        item = {\n",
    "            \"data\": {\n",
    "                \"title\": result[\"title\"],\n",
    "                \"description\": result[\"description\"],\n",
    "                \"source_links\": result[\"source_links\"],\n",
    "            },\n",
    "            \"timestamp\": result[\"timestamp\"]\n",
    "        }\n",
    "\n",
    "        if result[\"replace_id\"]:\n",
    "            update_entry_in_db(self.DB_CONFIG, result[\"replace_id\"], item)\n",
    "        else:\n",
    "            add_entry_in_db(self.DB_CONFIG, item)\n",
    "\n",
    "        return item[\"data\"]\n",
    "    \n",
    "    def structure_existing_news(self, news_list):\n",
    "        return \"\\n\".join([\n",
    "            f\"[{n['id']}] {n['title']} — {n['timestamp']}\\n\" for n in news_list\n",
    "        ])"
   ]
  },
  {
   "cell_type": "code",
   "execution_count": 4,
   "id": "ae8d7d87",
   "metadata": {},
   "outputs": [],
   "source": [
    "\n",
    "def translate_text(source: Dict[str, str], target_languages: List[str]) -> List[Dict[str, any]]:\n",
    "\n",
    "    url = \"https://api.sarvam.ai/translate\"\n",
    "    target_language_codes = [\"en-IN\", \"hi-IN\", \"bn-IN\", \"gu-IN\", \"kn-IN\", \"ml-IN\", \"mr-IN\", \"od-IN\", \"pa-IN\", \"ta-IN\", \"te-IN\"]\n",
    "    translations = []\n",
    "\n",
    "    for target_lang in target_languages:\n",
    "        if target_lang not in target_language_codes:\n",
    "            print(f\"Unsupported language code: {target_lang}\")\n",
    "            continue\n",
    "        \n",
    "        translation = {}\n",
    "        for key in source.keys():\n",
    "            if key == 'source_links':\n",
    "                continue\n",
    "            payload = {\n",
    "                \"input\": source[key],\n",
    "                \"source_language_code\": \"auto\",\n",
    "                \"target_language_code\": target_lang,\n",
    "                \"speaker_gender\": \"Male\",\n",
    "                \"mode\": \"formal\",\n",
    "                \"model\": \"mayura:v1\",\n",
    "                \"enable_preprocessing\": False,\n",
    "                \"output_script\": \"roman\",\n",
    "                \"numerals_format\": \"international\",\n",
    "                \"output_script\": \"fully-native\"\n",
    "            }\n",
    "            headers = {'api-subscription-key': os.getenv(\"SARVAM_API_KEY\")}\n",
    "\n",
    "            response = requests.request(\"POST\", url, json=payload, headers=headers)\n",
    "            if response.status_code == 200:\n",
    "                translation[key] = (response.json())[\"translated_text\"]\n",
    "            else:   \n",
    "                print(f\"Error: {response.status_code}\")\n",
    "                print(response.text)\n",
    "        \n",
    "        translation['target_language_code'] = target_lang\n",
    "        translations.append(translation)\n",
    "\n",
    "    return translations\n"
   ]
  },
  {
   "cell_type": "code",
   "execution_count": 5,
   "id": "1a74fb6a",
   "metadata": {},
   "outputs": [],
   "source": [
    "agno_agent = AgnoAgent()\n",
    "response = agno_agent.get_news()"
   ]
  },
  {
   "cell_type": "code",
   "execution_count": 6,
   "id": "1a6b4c95",
   "metadata": {},
   "outputs": [
    {
     "name": "stdout",
     "output_type": "stream",
     "text": [
      "{\n",
      "    \"title\": \"Nepomniachtchi and Ju Win FIDE Grand Swiss, Secure Candidates Spots\",\n",
      "    \"description\": \"Ian Nepomniachtchi and Ju Wenjun emerged victorious at the FIDE Grand Swiss tournament held in Isle of Man. Both players secured their places in the upcoming Candidates Tournament. Nepomniachtchi finished with 8.5 points, a full point ahead of the field, demonstrating strong form. Ju Wenjun, the current Women's World Champion, also won her tournament with a score of 8 points. The FIDE Grand Swiss is a prestigious event that brings together many of the world's top players, offering a direct qualification path to the Candidates Tournament, which determines the challenger for the World Championship title. Several other players also had strong performances, making it a highly competitive event.\",\n",
      "    \"source_links\": [\n",
      "        \"https://www.chess.com/news/view/2023-fide-grand-swiss-round-11-nepomniachtchi-wins\",\n",
      "        \"https://www.chess.com/news/view/2023-fide-women-s-grand-swiss-round-11-ju-wenjun-wins\"\n",
      "    ]\n",
      "}\n"
     ]
    }
   ],
   "source": [
    "original_news = response\n",
    "print(json.dumps(original_news, indent=4))"
   ]
  },
  {
   "cell_type": "code",
   "execution_count": 7,
   "id": "fe978acf",
   "metadata": {},
   "outputs": [],
   "source": [
    "translated_text = translate_text(original_news, [\"hi-IN\"])"
   ]
  },
  {
   "cell_type": "code",
   "execution_count": 8,
   "id": "cd179c9c",
   "metadata": {},
   "outputs": [
    {
     "name": "stdout",
     "output_type": "stream",
     "text": [
      "news:  {'title': 'Nepomniachtchi and Ju Win FIDE Grand Swiss, Secure Candidates Spots', 'description': \"Ian Nepomniachtchi and Ju Wenjun emerged victorious at the FIDE Grand Swiss tournament held in Isle of Man. Both players secured their places in the upcoming Candidates Tournament. Nepomniachtchi finished with 8.5 points, a full point ahead of the field, demonstrating strong form. Ju Wenjun, the current Women's World Champion, also won her tournament with a score of 8 points. The FIDE Grand Swiss is a prestigious event that brings together many of the world's top players, offering a direct qualification path to the Candidates Tournament, which determines the challenger for the World Championship title. Several other players also had strong performances, making it a highly competitive event.\", 'source_links': ['https://www.chess.com/news/view/2023-fide-grand-swiss-round-11-nepomniachtchi-wins', 'https://www.chess.com/news/view/2023-fide-women-s-grand-swiss-round-11-ju-wenjun-wins'], 'translations': [{'title': 'नेपोमनाचची और जु विन एफ.आई.डी.ई. ग्रैंड स्विस, सुरक्षित उम्मीदवार स्थान', 'description': 'आइल ऑफ मैन में आयोजित एफ.आई.डी.ई. ग्रैंड स्विस टूर्नामेंट में इयान नेपोमनाचती और जु वेनजुन विजयी हुए। दोनों खिलाड़ियों ने आगामी कैंडिडेट्स टूर्नामेंट में अपनी जगह पक्की की। नेपोमनाचती ने 8.5 अंक के साथ मैदान से आगे रहते हुए मजबूत प्रदर्शन का प्रदर्शन किया। वर्तमान महिला विश्व चैंपियन जू वेनजुन ने भी 8 अंकों के साथ अपनी प्रतियोगिता जीती। एफ.आई.डी.ई. ग्रैंड स्विस एक प्रतिष्ठित प्रतियोगिता है जो दुनिया के कई शीर्ष खिलाड़ियों को एक साथ लाती है, जो कैंडिडेट्स टूर्नामेंट में सीधे योग्यता का मार्ग प्रदान करती है, जो विश्व चैंपियनशिप खिताब के लिए चुनौती देने वाले को निर्धारित करती है। कई अन्य खिलाड़ियों ने भी मजबूत प्रदर्शन किया, जिससे यह एक अत्यधिक प्रतिस्पर्धी प्रतियोगिता बन गई।', 'target_language_code': 'hi-IN'}]}\n"
     ]
    }
   ],
   "source": [
    "news_with_translations = {\n",
    "    \"title\": original_news[\"title\"],\n",
    "    \"description\": original_news[\"description\"],\n",
    "    \"source_links\": original_news[\"source_links\"],\n",
    "    \"translations\": translated_text\n",
    "}\n",
    "\n",
    "print(\"news: \", news_with_translations)"
   ]
  },
  {
   "cell_type": "code",
   "execution_count": null,
   "id": "06091da6",
   "metadata": {},
   "outputs": [],
   "source": []
  }
 ],
 "metadata": {
  "kernelspec": {
   "display_name": ".venv",
   "language": "python",
   "name": "python3"
  },
  "language_info": {
   "codemirror_mode": {
    "name": "ipython",
    "version": 3
   },
   "file_extension": ".py",
   "mimetype": "text/x-python",
   "name": "python",
   "nbconvert_exporter": "python",
   "pygments_lexer": "ipython3",
   "version": "3.13.2"
  }
 },
 "nbformat": 4,
 "nbformat_minor": 5
}
